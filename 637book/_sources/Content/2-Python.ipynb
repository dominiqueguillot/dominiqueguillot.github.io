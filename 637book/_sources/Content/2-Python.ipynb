{
 "cells": [
  {
   "cell_type": "markdown",
   "id": "3856dace",
   "metadata": {},
   "source": [
    "# Setting up Python\n",
    "\n",
    "There are various ways to use Python for this course. Some popular possibilities include: \n",
    "* Google Colab\n",
    "* Setting up your own local Python environment\n",
    "\n",
    "## Google Colab\n",
    "\n",
    "A very simple way to use Python is to run it in the cloud via a service such as Google Colab. No setup is necessary and you can easily share notebooks with other people. \n",
    "\n",
    "1. Go to [Google Colab](https://colab.research.google.com/) and create a new notebook. \n",
    "2. Enter 1 + 1 in the first code block.\n",
    "3. Press Shift+Enter to execute the command. You should see \"2\" in the next output block.\n",
    "\n",
    "![Google Colab example](images/google-colab.jpg)\n",
    "\n",
    "## Setting up your own local Python environment\n",
    "\n",
    "If you prefer to run code directly on your own computer, it is highly recommended that you install [Anaconda Python](https://www.anaconda.com/download). This Python distribution comes with many useful scientific computing packages pre-installed. \n",
    "\n",
    "```{note}\n",
    "Hello\n",
    "```\n"
   ]
  }
 ],
 "metadata": {
  "language_info": {
   "name": "python"
  }
 },
 "nbformat": 4,
 "nbformat_minor": 5
}
