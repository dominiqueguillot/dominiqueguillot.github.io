{
 "cells": [
  {
   "cell_type": "markdown",
   "id": "7907fc89",
   "metadata": {},
   "source": [
    "# Basic Python\n",
    "\n",
    "```{note}\n",
    "This section can be skipped or briefly reviewed if you are already comfortable with Python.\n",
    "```\n",
    "\n",
    "```{note}\n",
    "If you are a Matlab user, the following thesaurus\n",
    "\n",
    "<a href=\"http://mathesaurus.sourceforge.net/matlab-numpy.html\" target=\"_blank\">http://mathesaurus.sourceforge.net/matlab-numpy.html</a>\n",
    "\n",
    "could be useful to get started with Python.\n",
    "```\n",
    "\n",
    "Python is a powerful open-source programming language. You can use it to perform many tasks including scientific computing and building full applications. This chapter provides a very brief introduction to Python. \n",
    "\n",
    "As you go through the commands below, please copy them into your own notebook and try some variants to become more familiarized with the language.\n",
    "\n",
    "## Assigning variables and basic arithmetic\n",
    "\n",
    "You can assign values to variables directly using the \"=\" symbol.\n",
    "\n",
    "Note: Comments can be included in code using the \"#\" symbol. It is good practice to comment your code to help others (or your future self!) understand your code."
   ]
  },
  {
   "cell_type": "code",
   "execution_count": 5,
   "id": "76ac53bd",
   "metadata": {},
   "outputs": [
    {
     "name": "stdout",
     "output_type": "stream",
     "text": [
      "5\n"
     ]
    }
   ],
   "source": [
    "a = 2  # Assigns the value 2 to the variable \"a\".\n",
    "b = 3\n",
    "c = a + b\n",
    "\n",
    "# Let us print the value of \"c\":\n",
    "print(c)"
   ]
  },
  {
   "cell_type": "markdown",
   "id": "6ddf25e8",
   "metadata": {},
   "source": [
    "## Control flow: indentation matters\n",
    "\n",
    "You can execute pieces of code only when some conditions are verified using the \"if\" and \"else\" commands. \n",
    "\n",
    "Important: Notice how the code within the \"if\" and \"then\" statements are indented. Apart from improving readability, this is **required** in Python. The code will not execute if it is not indented properly."
   ]
  },
  {
   "cell_type": "code",
   "execution_count": 2,
   "id": "9bfce1b1",
   "metadata": {},
   "outputs": [
    {
     "name": "stdout",
     "output_type": "stream",
     "text": [
      "Yes! a=2!\n"
     ]
    }
   ],
   "source": [
    "\n",
    "if a == 2: \n",
    "\tprint(\"Yes! a=2!\")\n",
    "else:\n",
    "\tprint(\"Sorry. a is not equal to 2\")"
   ]
  },
  {
   "cell_type": "markdown",
   "id": "1fe5d1ff",
   "metadata": {},
   "source": [
    "## Loops\n",
    "\n",
    "Loops can be used to iterate over the values of a variable. This is done with the \"for\" command. Here, the print command will be executed for each value of i from 0 to 9. Note that, by default, Python starts indexing at 0. "
   ]
  },
  {
   "cell_type": "code",
   "execution_count": 3,
   "id": "3c306fd5",
   "metadata": {},
   "outputs": [
    {
     "name": "stdout",
     "output_type": "stream",
     "text": [
      "0\n",
      "1\n",
      "2\n",
      "3\n",
      "4\n",
      "5\n",
      "6\n",
      "7\n",
      "8\n",
      "9\n"
     ]
    }
   ],
   "source": [
    "for i in range(10):\n",
    "\tprint(i)"
   ]
  },
  {
   "cell_type": "markdown",
   "id": "df375727",
   "metadata": {},
   "source": [
    "## Lists and tuples\n",
    "\n",
    "Pythons provides several ways to create ordered lists. A list is defined using brackets \"[...]\". The elements of a list can be accessed and modified at any time. As mentioned above, keep in mind that indexing always starts at 0 in Python. Thus a[0] is the first element of \"a\", not a[1]."
   ]
  },
  {
   "cell_type": "code",
   "execution_count": null,
   "id": "0c9e1a01",
   "metadata": {},
   "outputs": [
    {
     "name": "stdout",
     "output_type": "stream",
     "text": [
      "2\n",
      "[10, 3, 4]\n"
     ]
    }
   ],
   "source": [
    "a = [2,3,4]\n",
    "print(a[0])\n",
    "\n",
    "# Let us assign a different value for the first entry of \"a\":\n",
    "a[0] = 10\n",
    "print(a)"
   ]
  },
  {
   "cell_type": "markdown",
   "id": "56146896",
   "metadata": {},
   "source": [
    "A *tuple* is similar to a list, but must be constant. Once a tuple is created, its values cannot be modified. Tuples are created using parenteses \"(...)\".  "
   ]
  },
  {
   "cell_type": "code",
   "execution_count": 6,
   "id": "5e1c9a5d",
   "metadata": {},
   "outputs": [
    {
     "name": "stdout",
     "output_type": "stream",
     "text": [
      "(2, 3, 4)\n"
     ]
    },
    {
     "ename": "TypeError",
     "evalue": "'tuple' object does not support item assignment",
     "output_type": "error",
     "traceback": [
      "\u001b[0;31m---------------------------------------------------------------------------\u001b[0m",
      "\u001b[0;31mTypeError\u001b[0m                                 Traceback (most recent call last)",
      "Cell \u001b[0;32mIn[6], line 3\u001b[0m\n\u001b[1;32m      1\u001b[0m a \u001b[38;5;241m=\u001b[39m (\u001b[38;5;241m2\u001b[39m,\u001b[38;5;241m3\u001b[39m,\u001b[38;5;241m4\u001b[39m)\n\u001b[1;32m      2\u001b[0m \u001b[38;5;28mprint\u001b[39m(a)\n\u001b[0;32m----> 3\u001b[0m a[\u001b[38;5;241m0\u001b[39m] \u001b[38;5;241m=\u001b[39m \u001b[38;5;241m10\u001b[39m\n",
      "\u001b[0;31mTypeError\u001b[0m: 'tuple' object does not support item assignment"
     ]
    }
   ],
   "source": [
    "a = (2,3,4)\n",
    "print(a)\n",
    "a[0] = 10  # fails"
   ]
  },
  {
   "cell_type": "markdown",
   "id": "b69a3235",
   "metadata": {},
   "source": [
    "## Importing other modules\n",
    "\n",
    "The basic Python language can be extended by importing modules. One module that we will use all the time to perform numerical calculations is *NumPy* (numerical Python). There are various ways to load a package as illustrated in the following example. \n",
    "\n",
    "(1) import numpy\n",
    "\n",
    "This loads the whole numpy package. The objects and methods of the package can now be access by typing \"numpy.*something*\". For example, the following creates a matrix"
   ]
  },
  {
   "cell_type": "code",
   "execution_count": 9,
   "id": "d0ff1158",
   "metadata": {},
   "outputs": [
    {
     "name": "stdout",
     "output_type": "stream",
     "text": [
      "[[1 2]\n",
      " [3 4]]\n"
     ]
    }
   ],
   "source": [
    "import numpy\n",
    "\n",
    "A = numpy.array([[1,2],[3,4]])\n",
    "print(A)"
   ]
  },
  {
   "cell_type": "markdown",
   "id": "fc672152",
   "metadata": {},
   "source": [
    "(2) When importing modules, it is common to change their name to reduce the amount of typing. For NumPy, it is very common to import it as \"np\". \n",
    "\n",
    "import numpy as np\n",
    "\n",
    "The various objects and methods of numpy can now be accessed by typing \"np.*something*\" instead of \"numpy.*something*\". "
   ]
  },
  {
   "cell_type": "code",
   "execution_count": 16,
   "id": "be7095f9",
   "metadata": {},
   "outputs": [
    {
     "name": "stdout",
     "output_type": "stream",
     "text": [
      "[[1 2]\n",
      " [3 4]]\n"
     ]
    }
   ],
   "source": [
    "import numpy as np\n",
    "\n",
    "A = np.array([[1,2],[3,4]])\n",
    "B = np.array([[5,6],[7,8]])\n",
    "print(A)"
   ]
  },
  {
   "cell_type": "markdown",
   "id": "73c85a2a",
   "metadata": {},
   "source": [
    "```{note}\n",
    "When doing data analysis or scientific computing, almost all of your code will probably start with \"import numpy as np\" as the NumPy module is the backbone of scientific computing in Python.\n",
    "```\n",
    "\n",
    "Numpy has many constructors to created standard matrices. Try them to see what they are. "
   ]
  },
  {
   "cell_type": "code",
   "execution_count": 12,
   "id": "c919089f",
   "metadata": {},
   "outputs": [],
   "source": [
    "\n",
    "M = np.zeros((3,4))\n",
    "M = np.ones((3,3))\n",
    "M = np.eye(3)\n",
    "M = np.random.rand(3,3)  # Random uniform [0,1] entries"
   ]
  },
  {
   "cell_type": "markdown",
   "id": "0b9b2ed6",
   "metadata": {},
   "source": [
    "When printing or accessing entries of matrices, remember again that indexing starts at 0: "
   ]
  },
  {
   "cell_type": "code",
   "execution_count": 13,
   "id": "37d3aa77",
   "metadata": {},
   "outputs": [
    {
     "name": "stdout",
     "output_type": "stream",
     "text": [
      "0.46035003915752304\n"
     ]
    }
   ],
   "source": [
    "print(M[0,0])"
   ]
  },
  {
   "cell_type": "markdown",
   "id": "642da50c",
   "metadata": {},
   "source": [
    "Matrices are added with the \"+\" symbol. \n",
    "\n",
    "**Warning:** The \"*\" symbol performs *entrywise* (entry-by-entry) multiplication. This is **not** the standard matrix product. \n",
    "\n",
    "Use the \"@\" operator for matrix products. \n",
    "\n",
    "Note: The matrix product of A and B can also be computed using: A.dot(B) and np.matmult(A,B). "
   ]
  },
  {
   "cell_type": "code",
   "execution_count": null,
   "id": "7b82ca16",
   "metadata": {},
   "outputs": [
    {
     "data": {
      "text/plain": [
       "array([[19, 22],\n",
       "       [43, 50]])"
      ]
     },
     "execution_count": 17,
     "metadata": {},
     "output_type": "execute_result"
    }
   ],
   "source": [
    "A+B  # Addition of matrices\n",
    "A*B  # Entrywise product of A and B\n",
    "A @ B # Standard matrix product"
   ]
  },
  {
   "cell_type": "markdown",
   "id": "588c7854",
   "metadata": {},
   "source": [
    "Eigenvalues and eigenvectors can be computed using the \"np.linalg.eig\" command:"
   ]
  },
  {
   "cell_type": "code",
   "execution_count": null,
   "id": "653630b0",
   "metadata": {},
   "outputs": [],
   "source": [
    "v = np.linalg.eig(A) \n",
    "\n",
    "v[0]  # eigenvalues\n",
    "v[1]  # eigenvectors"
   ]
  },
  {
   "cell_type": "markdown",
   "id": "95821541",
   "metadata": {},
   "source": [
    "Another possible syntax is:"
   ]
  },
  {
   "cell_type": "code",
   "execution_count": 20,
   "id": "d994b549",
   "metadata": {},
   "outputs": [
    {
     "name": "stdout",
     "output_type": "stream",
     "text": [
      "[0.00000000e+00 5.55111512e-17]\n",
      "[0. 0.]\n"
     ]
    }
   ],
   "source": [
    "[e, v] = np.linalg.eig(A)\n",
    "\n",
    "# Let's verify: \n",
    "v1 = v[:,0]\n",
    "v2 = v[:,1]\n",
    "\n",
    "print(A @ v1-e[0]*v1)\n",
    "print(A @ v2-e[1]*v2)"
   ]
  },
  {
   "cell_type": "markdown",
   "id": "594dc299",
   "metadata": {},
   "source": [
    "```{note}\n",
    "Up to numerical precision, a small value (e.g. 1e-17) can be interpreted at \"0\". \n",
    "``` "
   ]
  },
  {
   "cell_type": "markdown",
   "id": "ddbd6af1",
   "metadata": {},
   "source": [
    "Some other common matrix operations include:"
   ]
  },
  {
   "cell_type": "code",
   "execution_count": 22,
   "id": "31495df6",
   "metadata": {},
   "outputs": [],
   "source": [
    "# Matrix inverse\n",
    "np.linalg.inv(A)\n",
    "\n",
    "# Determinant\n",
    "np.linalg.det(A)\n",
    "\n",
    "# Solving linear systems\n",
    "b = np.array([[2],[3]])\n",
    "solution = np.linalg.solve(A,b)\n"
   ]
  },
  {
   "cell_type": "markdown",
   "id": "f2939188",
   "metadata": {},
   "source": [
    "```{note}\n",
    "When we use a function a lot, it can be easier to add it directly to the Python environment. For example, suppose we use the \"np.linalg.eig\" function all the time. The code can be simplified using \n",
    "\n",
    "from numpy.linalg import eig\n",
    "\n",
    "One can then directly type \"eig(A)\" to compute the eigenvalues of the matrix A (try it!). \n",
    "```"
   ]
  },
  {
   "cell_type": "markdown",
   "id": "04053180",
   "metadata": {},
   "source": [
    "## Plotting\n",
    "\n",
    "Plots can be created using the *matplotlib* module."
   ]
  },
  {
   "cell_type": "code",
   "execution_count": null,
   "id": "9f32d751",
   "metadata": {},
   "outputs": [
    {
     "data": {
      "image/png": "[encoded data removed]",
      "text/plain": [
       "<Figure size 640x480 with 1 Axes>"
      ]
     },
     "metadata": {},
     "output_type": "display_data"
    }
   ],
   "source": [
    "import matplotlib.pyplot as plt\n",
    "\n",
    "x = np.linspace(-1,1,201)  # Creates 201 equally spaces points between -1 and 1.\n",
    "y = x**2\n",
    "\n",
    "plt.plot(x,y)\n",
    "plt.xlabel('Values of x')\n",
    "plt.ylabel('Values of y')\n",
    "plt.title(\"A quadratic polynomial!\")\n",
    "plt.show()    # Note: not required if using the Ipython notebook."
   ]
  },
  {
   "cell_type": "markdown",
   "id": "ab6368c2",
   "metadata": {},
   "source": [
    "(S-object)=\n",
    "## Objects\n",
    "\n",
    "An object in Python is a container that holds data (attributes) and that has associated behaviors (methods) that can act on that data. A **class** is like a blueprint for an object. For example, consider the following class that represents a \"dog\". Some attributes could be the dog's age and name. Think of those as some \"internal variables\" that each dog has. A possible method could then be \"bark\". Let's also add a \"print_name\" method. In Python, this can be created as follows.    "
   ]
  },
  {
   "cell_type": "code",
   "execution_count": 8,
   "id": "405d03b5",
   "metadata": {},
   "outputs": [],
   "source": [
    "class dog(object):\n",
    "    def __init__(self, age, name):\n",
    "        self.age = age\n",
    "        self.name = name\n",
    "    def bark(self):\n",
    "        print(\"Woof Woof!\")   \n",
    "    def print_name(self):\n",
    "        print(self.name) "
   ]
  },
  {
   "cell_type": "markdown",
   "id": "938198f1",
   "metadata": {},
   "source": [
    "Now that the class has been created, we can create new dog object. The new dog is an *instance* of the dog class."
   ]
  },
  {
   "cell_type": "code",
   "execution_count": 9,
   "id": "c1b239d1",
   "metadata": {},
   "outputs": [],
   "source": [
    "mydog = dog(3, \"Rufus\")"
   ]
  },
  {
   "cell_type": "markdown",
   "id": "873d9105",
   "metadata": {},
   "source": [
    "When \"dog\" is called, it executes the `__init__` method and stores \"age\" and \"name\" as attributes of the new dog. Notice how \"self\" in the class code represents the instance of the class. \n",
    "\n",
    "The attribute of the new object can be accessed as follows:"
   ]
  },
  {
   "cell_type": "code",
   "execution_count": 10,
   "id": "ead7dc73",
   "metadata": {},
   "outputs": [
    {
     "name": "stdout",
     "output_type": "stream",
     "text": [
      "3\n",
      "Rufus\n"
     ]
    }
   ],
   "source": [
    "print(mydog.age)\n",
    "print(mydog.name)"
   ]
  },
  {
   "cell_type": "markdown",
   "id": "7738d4b3",
   "metadata": {},
   "source": [
    "We can access the object's methods in a similar way: "
   ]
  },
  {
   "cell_type": "code",
   "execution_count": 11,
   "id": "78844470",
   "metadata": {},
   "outputs": [
    {
     "name": "stdout",
     "output_type": "stream",
     "text": [
      "Woof Woof!\n",
      "Rufus\n"
     ]
    }
   ],
   "source": [
    "mydog.bark()\n",
    "mydog.print_name()"
   ]
  },
  {
   "cell_type": "markdown",
   "id": "92a4c8c7",
   "metadata": {},
   "source": [
    "```{note}\n",
    "When creating a class, the first argument of each method needs to be \"self\". When we call a method such as \"mydog.print_name()\", Python passes \"mydog\" as an argument of the \"print_name\" function. The command \"mydog.print_name\" is thus a shortcut for \"print_name(mydog)\". \n",
    "```"
   ]
  },
  {
   "cell_type": "markdown",
   "id": "f6c4f6bb",
   "metadata": {},
   "source": [
    "Constructing classes is very useful to re-use code. For example, as you will see in the next chapter, many models for data in the <a href=\"https://scikit-learn.org/stable/\" target=\"_blank\">scikit-learn</a> package are implemented as objects. These have methods to perform various tasks such as estimating the model's parameters and measuring the model's performance."
   ]
  },
  {
   "cell_type": "markdown",
   "id": "d6c5d1b4",
   "metadata": {},
   "source": [
    "```{admonition} Exercise\n",
    "Create a class that represents a bank account. It should have attributes such as *account_number* and *balance*. Implement methods such as *deposit(amount)*, *withdraw(amount)*, and *transfer(target_account, amount)*. Make sure these methods debit and credit the different accounts properly.  \n",
    "```"
   ]
  },
  {
   "cell_type": "markdown",
   "id": "c6fee4ba",
   "metadata": {},
   "source": [
    "## Going deeper\n",
    "\n",
    "There are many resources (tutorial, videos, etc.) available on the internet. A great resource to continue exploring Python is \n",
    "\n",
    "<a href=\"https://lectures.scientific-python.org/\" target=\"_blank\">https://lectures.scientific-python.org/</a>\n",
    "\n",
    "Please review Sections 1.2, 1.3, 1.4 to continue building your knowledge of Python. "
   ]
  }
 ],
 "metadata": {
  "kernelspec": {
   "display_name": "base",
   "language": "python",
   "name": "python3"
  },
  "language_info": {
   "codemirror_mode": {
    "name": "ipython",
    "version": 3
   },
   "file_extension": ".py",
   "mimetype": "text/x-python",
   "name": "python",
   "nbconvert_exporter": "python",
   "pygments_lexer": "ipython3",
   "version": "3.12.7"
  }
 },
 "nbformat": 4,
 "nbformat_minor": 5
}
