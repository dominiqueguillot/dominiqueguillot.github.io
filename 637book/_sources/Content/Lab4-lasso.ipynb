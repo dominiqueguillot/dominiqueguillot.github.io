{
 "cells": [
  {
   "cell_type": "markdown",
   "id": "74aa46de",
   "metadata": {},
   "source": [
    "# Lab 4: using the LASSO\n",
    "\n",
    "In this lab, we will examine how the LASSO can be used to select relevant predictors and to construct better linear models. Here, by *better*, we mean models with a better testing error as the model with the most variables will always yield the smallest training error."
   ]
  }
 ],
 "metadata": {
  "language_info": {
   "name": "python"
  }
 },
 "nbformat": 4,
 "nbformat_minor": 5
}
