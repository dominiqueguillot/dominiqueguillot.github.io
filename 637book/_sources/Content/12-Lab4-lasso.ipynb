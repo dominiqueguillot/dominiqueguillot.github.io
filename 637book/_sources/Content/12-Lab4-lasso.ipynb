{
 "cells": [
  {
   "cell_type": "markdown",
   "id": "74aa46de",
   "metadata": {},
   "source": [
    "# Lab 4: using the LASSO\n",
    "\n",
    "In this lab, we will examine how the LASSO can be used to select relevant predictors and to construct better linear models. Here, by *better*, we mean models with a better testing error. In order to select an optimal LASSO parameter, we will use cross-validation. Scikit-learn has an object that can perform cross-validation directly for us.\n",
    "\n",
    "```python\n",
    "from sklearn.linear_model import LassoCV\n",
    "```\n",
    "\n",
    "The file [assay.csv](data/Westbc/assay.csv) contains gene expression data ($p = 7129$ genes) for $n = 49$ breast cancer tumor samples. The file [pheno.csv](data/Westbc/pheno.csv) contains a binary response variable for each sample (whether the sample tested positive or negative for cancer). Our goal is to build a good linear regression model to predict whether a given gene expression profile is likely associated to cancer. \n",
    "\n",
    "Let us first try a basic linear regression model."
   ]
  },
  {
   "cell_type": "code",
   "execution_count": 1,
   "id": "82fdefae",
   "metadata": {},
   "outputs": [
    {
     "name": "stdout",
     "output_type": "stream",
     "text": [
      "Percentage of test samples correctly predicted: 53.85% \n",
      "\n"
     ]
    }
   ],
   "source": [
    "import pandas as pd\n",
    "import numpy as np\n",
    "import matplotlib.pyplot as plt\n",
    "from scipy.special import binom\n",
    "\n",
    "# Load dataset\n",
    "# pheno = 49 phenotypes\n",
    "# assay = 7129 x 49 gene expression data\n",
    "\n",
    "pheno_pd = pd.read_csv('pheno.csv',delimiter=',')\n",
    "pheno_pd.loc[pheno_pd['nodal.y']==\"positive\"] = 1\n",
    "pheno_pd.loc[pheno_pd['nodal.y']==\"negative\"] = 0\n",
    "\n",
    "assay_pd = pd.read_csv('assay.csv',delimiter=',')\n",
    "\n",
    "pheno = np.array(pheno_pd['nodal.y'],dtype=np.double)\n",
    "assay = np.array(assay_pd)\n",
    "\n",
    "X = assay.T\n",
    "y = pheno\n",
    "\n",
    "from sklearn.linear_model import LinearRegression\n",
    "from sklearn.model_selection import train_test_split\n",
    "\n",
    "\n",
    "lin_model = LinearRegression(fit_intercept=True)\n",
    "\n",
    "# Splitting the data into a training and a test set\n",
    "X_train, X_test, y_train, y_test = train_test_split(X, y, test_size=0.25, random_state=42)\n",
    "\n",
    "# Standard linear regression\n",
    "lin_model.fit(X_train, y_train)\n",
    "pred = lin_model.predict(X_test)\n",
    "\n",
    "pred[pred > 0.5] = 1\n",
    "pred[pred <= 0.5] = 0\n",
    "\n",
    "perc_correct = (pred == y_test).sum()/np.double(len(y_test))*100\n",
    "\n",
    "\t\n",
    "print(\"Percentage of test samples correctly predicted: %1.2f%% \\n\" % perc_correct)"
   ]
  },
  {
   "cell_type": "markdown",
   "id": "7a38e9a3",
   "metadata": {},
   "source": [
    "Let us now use the LASSO to select relevant genes before fitting the model."
   ]
  },
  {
   "cell_type": "code",
   "execution_count": 3,
   "id": "e757071c",
   "metadata": {},
   "outputs": [
    {
     "name": "stdout",
     "output_type": "stream",
     "text": [
      "Nb. predictors 25\n",
      "\n",
      "\n",
      "Percentage of test samples correctly predicted by LASSO: 69.23% \n",
      "\n"
     ]
    }
   ],
   "source": [
    "from sklearn.linear_model import LassoCV\n",
    "\n",
    "# Creating a LASSO cross-validation model with 200 parameters and 10-folds cross-validation.\n",
    "lasso_model = LassoCV(n_alphas=200, fit_intercept=True, cv=10)  \n",
    "\n",
    "# Fitting model by cross-validation. This automatically selects a good penalty parameter.\n",
    "lasso_model.fit(X_train, y_train)\n",
    "\n",
    "# We pick the parameters that have a nonzero coefficient (we use 1e-6 for numerical precision).\n",
    "predictors = abs(lasso_model.coef_) > 1e-6\n",
    "\n",
    "print(\"Nb. predictors %d\\n\\n\" % predictors.sum())  # Prints the number of predictors selected by the LASSO\n",
    "\n",
    "if predictors.sum() > 0:\n",
    "\t# Predict using selected variables\n",
    "\tlin_model.fit(X_train[:,predictors],y_train)\n",
    "\tpred = lin_model.predict(X_test[:,predictors]) \n",
    "else: \n",
    "    print(\"LASSO selected no predictor.\")\n",
    "\n",
    "pred[pred > 0.5] = 1\n",
    "pred[pred <= 0.5] = 0\n",
    "\n",
    "perc_correct_lasso = (pred == y_test).sum()/np.double(len(y_test))*100\n",
    "\n",
    "print(\"Percentage of test samples correctly predicted by LASSO: %1.2f%% \\n\" % perc_correct_lasso)"
   ]
  },
  {
   "cell_type": "markdown",
   "id": "d95890a7",
   "metadata": {},
   "source": [
    "In that case, using the LASSO yield a significant increase in precision! \n",
    "\n",
    "```{admonition} Exercise\n",
    "\n",
    "Modify the above codes to use $N = 100$ train/test sets selected at random. Compute the average accuracy of each model and its standard deviation. \n",
    "```\n",
    "\n",
    "```{admonition} Exercise\n",
    "\n",
    "The <a href=\"https://archive.ics.uci.edu/datasets\" target=\"_blank\">UC Irvine Machine Learning Repository</a> contains a lot of exciting datasets to explore. Look for some datasets with a lot of variables. Using an approach similar to the above, use the LASSO to select good subsets of predictors and verify if that approach yields better prediction results than using a basic linear regression model. \n",
    "```"
   ]
  }
 ],
 "metadata": {
  "kernelspec": {
   "display_name": "base",
   "language": "python",
   "name": "python3"
  },
  "language_info": {
   "codemirror_mode": {
    "name": "ipython",
    "version": 3
   },
   "file_extension": ".py",
   "mimetype": "text/x-python",
   "name": "python",
   "nbconvert_exporter": "python",
   "pygments_lexer": "ipython3",
   "version": "3.12.7"
  }
 },
 "nbformat": 4,
 "nbformat_minor": 5
}
